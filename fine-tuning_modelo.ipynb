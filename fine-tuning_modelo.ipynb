{
  "cells": [
    {
      "cell_type": "markdown",
      "metadata": {
        "id": "view-in-github",
        "colab_type": "text"
      },
      "source": [
        "<a href=\"https://colab.research.google.com/github/marcos-2002/shakespeare-made-in-brazil/blob/main/fine-tunning_modelo.ipynb\" target=\"_parent\"><img src=\"https://colab.research.google.com/assets/colab-badge.svg\" alt=\"Open In Colab\"/></a>"
      ]
    },
    {
      "cell_type": "code",
      "source": [
        "from google.colab import drive\n",
        "drive.mount('/content/drive')"
      ],
      "metadata": {
        "id": "0M1gB9TMZdQw"
      },
      "execution_count": null,
      "outputs": []
    },
    {
      "cell_type": "code",
      "execution_count": null,
      "metadata": {
        "id": "xgUm4s27Va72"
      },
      "outputs": [],
      "source": [
        "!pip uninstall -y transformers accelerate\n",
        "!pip install transformers[torch] accelerate -U"
      ]
    },
    {
      "cell_type": "code",
      "execution_count": null,
      "metadata": {
        "id": "XTSUTA7YUKeY"
      },
      "outputs": [],
      "source": [
        "!pip install datasets"
      ]
    },
    {
      "cell_type": "code",
      "execution_count": 6,
      "metadata": {
        "id": "ZDRwA0VkUKMi"
      },
      "outputs": [],
      "source": [
        "import torch\n",
        "import os\n",
        "import accelerate\n",
        "from transformers import AutoTokenizer, AutoModelForCausalLM, Trainer, TrainingArguments\n",
        "from datasets import load_dataset, DatasetDict"
      ]
    },
    {
      "cell_type": "code",
      "execution_count": null,
      "metadata": {
        "id": "xdw2bRmxHNdG"
      },
      "outputs": [],
      "source": [
        "# Configurações\n",
        "model_name = \"MarioJ/Portuguese-Poems-Small-Gpt2\"\n",
        "train_file = '/content/drive/MyDrive/Shakespeare made in Brazil/dataset/musicas-train.json'  # Caminho para o arquivo de treinamento\n",
        "test_file = '/content/drive/MyDrive/Shakespeare made in Brazil/dataset/musicas-test.json'    # Caminho para o arquivo de teste\n",
        "output_dir = '/content/drive/MyDrive/Shakespeare made in Brazil/results' # Caminho para o resultado\n",
        "\n",
        "# Carregar o tokenizer e o modelo\n",
        "tokenizer = AutoTokenizer.from_pretrained(model_name)\n",
        "model = AutoModelForCausalLM.from_pretrained(model_name)\n",
        "\n",
        "# Carregar o dataset\n",
        "dataset = load_dataset('json', data_files={'train': train_file, 'test': test_file})\n",
        "\n",
        "# Função de tokenização\n",
        "def tokenize_function(examples):\n",
        "    tokenized = tokenizer(examples['Letra'], truncation=True, padding='max_length', max_length=128)\n",
        "    tokenized[\"labels\"] = tokenized[\"input_ids\"].copy()\n",
        "    return tokenized\n",
        "\n",
        "# Tokenizar o dataset\n",
        "tokenized_datasets = dataset.map(tokenize_function, batched=True, remove_columns=[\"Poema:\", \"Letra\"])\n",
        "\n",
        "# Argumentos de treinamento\n",
        "training_args = TrainingArguments(\n",
        "    output_dir=output_dir, # Diretório de salvamento\n",
        "    overwrite_output_dir=True,\n",
        "    num_train_epochs=3, # Número de passagens\n",
        "    per_device_train_batch_size=2, # Quantidade de exemplos processados em treinamento\n",
        "    per_device_eval_batch_size=2, # Quantidade de exemplos processados em avaliação\n",
        "    warmup_steps=500, # Passos de aquecimento\n",
        "    weight_decay=0.01,\n",
        "    logging_dir='./logs',\n",
        "    logging_steps=10,\n",
        "    eval_strategy=\"steps\",  # Avaliar a cada N passos\n",
        "    save_strategy=\"steps\",  # Salvar checkpoints a cada N passos\n",
        "    save_total_limit=3,  # Limite de quantos checkpoints manter\n",
        "    load_best_model_at_end=True,\n",
        "    save_steps=500,  # Salvar checkpoints a cada 500 passos\n",
        "    eval_steps=500,  # Avaliar a cada 500 passos\n",
        ")\n",
        "\n",
        "# Criar o Trainer\n",
        "trainer = Trainer(\n",
        "    model=model,\n",
        "    args=training_args,\n",
        "    train_dataset=tokenized_datasets['train'],\n",
        "    eval_dataset=tokenized_datasets['test'],\n",
        "    tokenizer=tokenizer\n",
        ")\n",
        "\n",
        "# Treinar o modelo\n",
        "trainer.train()  # Inicia o treinamento do zero\n",
        "\n",
        "# Salvar o modelo\n",
        "model.save_pretrained(output_dir)\n",
        "tokenizer.save_pretrained(output_dir)"
      ]
    },
    {
      "cell_type": "code",
      "execution_count": null,
      "metadata": {
        "id": "QbuUivGfSIKM"
      },
      "outputs": [],
      "source": [
        "tokenizer = AutoTokenizer.from_pretrained(\"/content/drive/MyDrive/Shakespeare made in Brazil/results/modelo-final\")\n",
        "model = AutoModelForCausalLM.from_pretrained(\"/content/drive/MyDrive/Shakespeare made in Brazil/results/modelo-final\")\n",
        "\n",
        "input_text = \"Quando gero um poema\"\n",
        "\n",
        "input_ids = tokenizer(input_text, return_tensors=\"pt\").input_ids\n",
        "\n",
        "attention_mask = (input_ids != tokenizer.pad_token_id).long()\n",
        "\n",
        "output = model.generate(\n",
        "    input_ids,\n",
        "    attention_mask=attention_mask,\n",
        "    max_length=100,\n",
        "    num_return_sequences=1,\n",
        "    do_sample=True,\n",
        "    top_k=50,\n",
        "    top_p=0.95,\n",
        "    repetition_penalty=1.2,\n",
        "    pad_token_id=tokenizer.eos_token_id\n",
        ")\n",
        "\n",
        "decoded_output = tokenizer.decode(output[0], skip_special_tokens=True)\n",
        "\n",
        "print(decoded_output)"
      ]
    }
  ],
  "metadata": {
    "colab": {
      "provenance": [],
      "include_colab_link": true
    },
    "kernelspec": {
      "display_name": "Python 3",
      "name": "python3"
    },
    "language_info": {
      "name": "python"
    }
  },
  "nbformat": 4,
  "nbformat_minor": 0
}
